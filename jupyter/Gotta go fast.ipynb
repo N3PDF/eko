{
 "cells": [
  {
   "cell_type": "code",
   "execution_count": 1,
   "metadata": {},
   "outputs": [],
   "source": [
    "%load_ext autoreload\n",
    "%load_ext line_profiler\n",
    "%autoreload 2\n",
    "import logging\n",
    "import sys\n",
    "import numpy as np\n",
    "import scipy.special as special\n",
    "import scipy.integrate as integrate"
   ]
  },
  {
   "cell_type": "markdown",
   "metadata": {},
   "source": [
    "In this notebook we will copy some of the stuff from `eko` and will try to benchmark it and make it faster. Most of the time is spent in the `_run_singlet` function, so logically we will need to copy and call this function."
   ]
  },
  {
   "cell_type": "code",
   "execution_count": 2,
   "metadata": {},
   "outputs": [],
   "source": [
    "from eko.constants import Constants\n",
    "from eko import interpolation\n",
    "from eko.dglap import _get_xgrid\n",
    "from eko import alpha_s\n",
    "from eko import mellin\n",
    "from eko import splitting_functions_LO as sf_LO\n",
    "\n",
    "cc = Constants()\n",
    "\n",
    "# Grid definition\n",
    "xgrid_low = interpolation.get_xgrid_linear_at_log(5,1e-7,0.1)\n",
    "xgrid_mid = interpolation.get_xgrid_linear_at_id(5,0.1,1.0)\n",
    "xgrid_high = 1.0-interpolation.get_xgrid_linear_at_log(1,1e-3,1.0 - 0.9)\n",
    "xgrid = np.unique(np.concatenate((xgrid_low,xgrid_mid,xgrid_high)))\n",
    "\n",
    "# Target grid\n",
    "toy_xgrid = np.array([1e-7,1e-6,1e-5,1e-4,1e-3,1e-2,.1,.3,.5,.7,.9])\n",
    "toy_xgrid = np.array([1e-7, 1e-2])\n",
    "nfFF = 4\n",
    "\n",
    "# Delta t\n",
    "a_s = alpha_s.alpha_s_generator(0.35, 2.0, nfFF, \"analytic\")\n",
    "a0 = a_s(0, 2)\n",
    "a1 = a_s(0, 1e4)\n",
    "delta_t = np.log(1.0/a1) - np.log(1.0/a0)\n",
    "\n",
    "polynom_rank = 4\n",
    "beta0 = alpha_s.beta_0(nfFF, cc.CA, cc.CF, cc.TF)"
   ]
  },
  {
   "cell_type": "code",
   "execution_count": 3,
   "metadata": {},
   "outputs": [],
   "source": [
    "from eko.dglap import _run_singlet\n",
    "\n",
    "# Long taking function\n",
    "inverse_mellin = mellin.inverse_mellin_transform\n",
    "\n",
    "ret = {\"operators\" : {}, \"operator_errors\" : {}}\n",
    "is_log_interpolation = True\n",
    "basis_function_coeffs = interpolation.get_Lagrange_basis_functions(xgrid, polynom_rank)\n",
    "def fake_run_singlet():\n",
    "    targetgrid = toy_xgrid\n",
    "    targetgrid_size = len(targetgrid)\n",
    "    nf = nfFF\n",
    "\n",
    "    # prepare\n",
    "    def get_kernels_s(j,lnx):\n",
    "        \"\"\"return siglet integration kernels\"\"\"\n",
    "        current_coeff = basis_function_coeffs[j] #areas dictionary from\n",
    "        # which are passed a list of:\n",
    "        #                 (logxmin, logxmax, list of coefficients)\n",
    "        fN = interpolation.evaluate_Lagrange_basis_function_log_N\n",
    "        def get_ker(k,l):\n",
    "            def ker(N):\n",
    "                \"\"\"singlet integration kernel\"\"\"\n",
    "                l_p,l_m,e_p,e_m = sf_LO.get_Eigensystem_gamma_singlet_0(N,nf,cc.CA,cc.CF)\n",
    "                ln_p = - delta_t * l_p  / beta0\n",
    "                ln_m = - delta_t * l_m  / beta0\n",
    "                interpoln = fN(N,current_coeff,lnx)\n",
    "                return (e_p[k][l] * np.exp(ln_p) + e_m[k][l] * np.exp(ln_m)) * interpoln\n",
    "            return ker\n",
    "\n",
    "        return get_ker(0,0), get_ker(0,1), get_ker(1,0), get_ker(1,1)\n",
    "\n",
    "    # perform\n",
    "    xgrid_size = len(xgrid)\n",
    "    void = np.zeros((targetgrid_size, xgrid_size))\n",
    "    op_s_qq = np.copy(void)\n",
    "    op_s_qg = np.copy(void)\n",
    "    op_s_gq = np.copy(void)\n",
    "    op_s_gg = np.copy(void)\n",
    "    op_s_qq_err = np.copy(void)\n",
    "    op_s_qg_err = np.copy(void)\n",
    "    op_s_gq_err = np.copy(void)\n",
    "    op_s_gg_err = np.copy(void)\n",
    "\n",
    "    for k,xk in enumerate(targetgrid):\n",
    "        if False and xk < 1e-3:\n",
    "            cut = 0.1\n",
    "            gamma = 2.0\n",
    "        else:\n",
    "            cut = 1e-2\n",
    "            gamma = 1.0\n",
    "        path,jac = mellin.get_path_Cauchy_tan(gamma,1.0)\n",
    "        for j in range(xgrid_size):\n",
    "            # iterate all matrix elements\n",
    "            ker_qq,ker_qg,ker_gq,ker_gg = get_kernels_s(j,np.log(xk))\n",
    "            for ker,op,op_err in [\n",
    "                    (ker_qq,op_s_qq,op_s_qq_err),(ker_qg,op_s_qg,op_s_qg_err),\n",
    "                    (ker_gq,op_s_gq,op_s_gq_err),(ker_gg,op_s_gg,op_s_gg_err)\n",
    "                ]:\n",
    "                res = inverse_mellin(ker, path, jac, cut)\n",
    "                op[k, j] = res[0]\n",
    "                op_err[k, j] = res[1]\n",
    "\n",
    "    # insert operators\n",
    "    ret[\"operators\"][\"S_qq\"] = op_s_qq\n",
    "    ret[\"operators\"][\"S_qg\"] = op_s_qg\n",
    "    ret[\"operators\"][\"S_gq\"] = op_s_gq\n",
    "    ret[\"operators\"][\"S_gg\"] = op_s_gg\n",
    "    ret[\"operator_errors\"][\"S_qq\"] = op_s_qq_err\n",
    "    ret[\"operator_errors\"][\"S_qg\"] = op_s_qg_err\n",
    "    ret[\"operator_errors\"][\"S_gq\"] = op_s_gq_err\n",
    "    ret[\"operator_errors\"][\"S_gg\"] = op_s_gg_err\n",
    "    return ret"
   ]
  },
  {
   "cell_type": "code",
   "execution_count": 4,
   "metadata": {},
   "outputs": [
    {
     "name": "stderr",
     "output_type": "stream",
     "text": [
      "/home/jumax9/Academic_Workspace/N3PDF/eko/src/eko/mellin.py:53: IntegrationWarning: The maximum number of subdivisions (100) has been achieved.\n",
      "  If increasing the limit yields no improvement it is advised to analyze \n",
      "  the integrand in order to determine the difficulties.  If the position of a \n",
      "  local difficulty can be determined (singularity, discontinuity) one will \n",
      "  probably gain from splitting up the interval and calling the integrator \n",
      "  on the subranges.  Perhaps a special-purpose integrator should be used.\n",
      "  result = integrate.quad(integrand, 0.5, 1.0 - cut,epsabs=1e-11,epsrel=1e-11,limit=100)\n",
      "/home/jumax9/Academic_Workspace/N3PDF/eko/src/eko/mellin.py:53: IntegrationWarning: The occurrence of roundoff error is detected, which prevents \n",
      "  the requested tolerance from being achieved.  The error may be \n",
      "  underestimated.\n",
      "  result = integrate.quad(integrand, 0.5, 1.0 - cut,epsabs=1e-11,epsrel=1e-11,limit=100)\n",
      "/home/jumax9/Academic_Workspace/N3PDF/eko/src/eko/mellin.py:53: IntegrationWarning: The maximum number of subdivisions (100) has been achieved.\n",
      "  If increasing the limit yields no improvement it is advised to analyze \n",
      "  the integrand in order to determine the difficulties.  If the position of a \n",
      "  local difficulty can be determined (singularity, discontinuity) one will \n",
      "  probably gain from splitting up the interval and calling the integrator \n",
      "  on the subranges.  Perhaps a special-purpose integrator should be used.\n",
      "  result = integrate.quad(integrand, 0.5, 1.0 - cut,epsabs=1e-11,epsrel=1e-11,limit=100)\n",
      "/home/jumax9/Academic_Workspace/N3PDF/eko/src/eko/mellin.py:53: IntegrationWarning: The occurrence of roundoff error is detected, which prevents \n",
      "  the requested tolerance from being achieved.  The error may be \n",
      "  underestimated.\n",
      "  result = integrate.quad(integrand, 0.5, 1.0 - cut,epsabs=1e-11,epsrel=1e-11,limit=100)\n"
     ]
    },
    {
     "name": "stdout",
     "output_type": "stream",
     "text": [
      "CPU times: user 1min 13s, sys: 22.7 ms, total: 1min 13s\n",
      "Wall time: 1min 13s\n"
     ]
    }
   ],
   "source": [
    "mydict = {\n",
    "    \"PTO\": 0,\n",
    "    'alphas': 0.35,\n",
    "    'Qref': np.sqrt(2),\n",
    "    'Q0': np.sqrt(2),\n",
    "    'NfFF': 4,\n",
    "\n",
    "    \"xgrid_type\": \"custom\",\n",
    "    \"xgrid_custom\": xgrid,\n",
    "    \"xgrid\" : xgrid,\n",
    "    \"xgrid_polynom_rank\": polynom_rank,\n",
    "    \"xgrid_interpolation\": \"log\",\n",
    "    \"targetgrid\": toy_xgrid,\n",
    "    \"Q2grid\": [1e4],\n",
    "    \"operators\" : {},\n",
    "    \"operator_errors\" : {}\n",
    "}\n",
    "%time reference_result = _run_singlet(mydict, cc, delta_t, True, basis_function_coeffs, mydict)"
   ]
  },
  {
   "cell_type": "code",
   "execution_count": 5,
   "metadata": {},
   "outputs": [
    {
     "name": "stderr",
     "output_type": "stream",
     "text": [
      "/home/jumax9/Academic_Workspace/N3PDF/eko/src/eko/mellin.py:53: IntegrationWarning: The maximum number of subdivisions (100) has been achieved.\n",
      "  If increasing the limit yields no improvement it is advised to analyze \n",
      "  the integrand in order to determine the difficulties.  If the position of a \n",
      "  local difficulty can be determined (singularity, discontinuity) one will \n",
      "  probably gain from splitting up the interval and calling the integrator \n",
      "  on the subranges.  Perhaps a special-purpose integrator should be used.\n",
      "  result = integrate.quad(integrand, 0.5, 1.0 - cut,epsabs=1e-11,epsrel=1e-11,limit=100)\n",
      "/home/jumax9/Academic_Workspace/N3PDF/eko/src/eko/mellin.py:53: IntegrationWarning: The occurrence of roundoff error is detected, which prevents \n",
      "  the requested tolerance from being achieved.  The error may be \n",
      "  underestimated.\n",
      "  result = integrate.quad(integrand, 0.5, 1.0 - cut,epsabs=1e-11,epsrel=1e-11,limit=100)\n",
      "/home/jumax9/Academic_Workspace/N3PDF/eko/src/eko/mellin.py:53: IntegrationWarning: The maximum number of subdivisions (100) has been achieved.\n",
      "  If increasing the limit yields no improvement it is advised to analyze \n",
      "  the integrand in order to determine the difficulties.  If the position of a \n",
      "  local difficulty can be determined (singularity, discontinuity) one will \n",
      "  probably gain from splitting up the interval and calling the integrator \n",
      "  on the subranges.  Perhaps a special-purpose integrator should be used.\n",
      "  result = integrate.quad(integrand, 0.5, 1.0 - cut,epsabs=1e-11,epsrel=1e-11,limit=100)\n",
      "/home/jumax9/Academic_Workspace/N3PDF/eko/src/eko/mellin.py:53: IntegrationWarning: The occurrence of roundoff error is detected, which prevents \n",
      "  the requested tolerance from being achieved.  The error may be \n",
      "  underestimated.\n",
      "  result = integrate.quad(integrand, 0.5, 1.0 - cut,epsabs=1e-11,epsrel=1e-11,limit=100)\n"
     ]
    },
    {
     "name": "stdout",
     "output_type": "stream",
     "text": [
      "CPU times: user 1min 10s, sys: 6.68 ms, total: 1min 10s\n",
      "Wall time: 1min 10s\n"
     ]
    }
   ],
   "source": [
    "# Compare the results of _run_singlet and its fake version and check they are the same\n",
    "#%lprun -T lprof0 -f inverse_mellin_transform result_fake = fake_run_singlet()\n",
    "#print(open('lprof0', 'r').read())\n",
    "%time result_fake = fake_run_singlet()"
   ]
  },
  {
   "cell_type": "markdown",
   "metadata": {},
   "source": [
    "Of course, we already knew that the problematic function was\n",
    "`res = inverse_mellin(ker, path, jac, cut)` so if we can make this function faster, the whole code will become much faster. Let's try running it for one single example."
   ]
  },
  {
   "cell_type": "code",
   "execution_count": 6,
   "metadata": {},
   "outputs": [
    {
     "name": "stdout",
     "output_type": "stream",
     "text": [
      "CPU times: user 559 ms, sys: 0 ns, total: 559 ms\n",
      "Wall time: 559 ms\n"
     ]
    },
    {
     "name": "stderr",
     "output_type": "stream",
     "text": [
      "<timed exec>:1: IntegrationWarning: The occurrence of roundoff error is detected, which prevents \n",
      "  the requested tolerance from being achieved.  The error may be \n",
      "  underestimated.\n"
     ]
    }
   ],
   "source": [
    "# First let us get the path and the jacobian\n",
    "xk = 0.1\n",
    "j = 1\n",
    "# These two are numba functions so nothing to do here\n",
    "path,jac = mellin.get_path_Cauchy_tan(1.0,1.0)\n",
    "import numba as nb\n",
    "\n",
    "# prepare\n",
    "def get_kernels_s(j,lnx):\n",
    "    \"\"\"return siglet integration kernels\"\"\"\n",
    "    current_coeff = basis_function_coeffs[j]\n",
    "    fN = interpolation.evaluate_Lagrange_basis_function_log_N\n",
    "    CA = cc.CA\n",
    "    cf = cc.CF\n",
    "    def get_ker(k,l):\n",
    "        #@nb.jit(forceobj=True)\n",
    "        def ker(N):\n",
    "            \"\"\"singlet integration kernel\"\"\"\n",
    "            l_p,l_m,e_p,e_m = sf_LO.get_Eigensystem_gamma_singlet_0(N,nfFF,CA,cf)\n",
    "            ln_p = - delta_t * l_p  / beta0\n",
    "            ln_m = - delta_t * l_m  / beta0\n",
    "            interpoln = fN(N,current_coeff,lnx)\n",
    "            return (e_p[k][l] * np.exp(ln_p) + e_m[k][l] * np.exp(ln_m)) * interpoln\n",
    "        return ker\n",
    "    return get_ker(0,0), get_ker(0,1), get_ker(1,0), get_ker(1,1)\n",
    "ker_qq, ker_qg, ker_gq, ker_gg = get_kernels_s(j,np.log(xk))\n",
    "\n",
    "cut = 1e-2\n",
    "fun = ker_gg\n",
    "    \n",
    "#@nb.jit(forceobj=True)\n",
    "def integrand(u):\n",
    "    N = path(u)\n",
    "    prefactor = complex(0.0, -1.0 / 2.0 / np.pi)\n",
    "    result = 2.0 * np.real(prefactor * fun(N) * jac(u))\n",
    "    return result\n",
    "\n",
    "%time result = integrate.quad(integrand, 0.5, 1.0 - cut,epsrel=1e-6,limit=100)"
   ]
  },
  {
   "cell_type": "code",
   "execution_count": 13,
   "metadata": {},
   "outputs": [
    {
     "name": "stdout",
     "output_type": "stream",
     "text": [
      "CPU times: user 71.7 ms, sys: 2 µs, total: 71.7 ms\n",
      "Wall time: 71 ms\n",
      "(0.22317357630324017, 0.25631938458284664)\n"
     ]
    },
    {
     "name": "stderr",
     "output_type": "stream",
     "text": [
      "<timed exec>:1: IntegrationWarning: The integral is probably divergent, or slowly convergent.\n"
     ]
    }
   ],
   "source": [
    "# Proof of concept, uncomment numba decorator to check the speed up\n",
    "import numba as nb\n",
    "\n",
    "def fun(x):\n",
    "    y = np.sin(x)\n",
    "    for i in range(100):\n",
    "        y += np.exp(-i)/np.cos(y)\n",
    "    return y\n",
    "\n",
    "nbfun = nb.njit(fun)\n",
    "%time res = integrate.quad(nbfun, 0.5, 1.0)\n",
    "\n",
    "print(res)"
   ]
  },
  {
   "cell_type": "code",
   "execution_count": 8,
   "metadata": {},
   "outputs": [
    {
     "data": {
      "text/plain": [
       "{'polynom_number': 0,\n",
       " 'areas': [{'lower_index': 0,\n",
       "   'reference_indices': (0, 4),\n",
       "   'coeffs': array([ 1.03372284e+00, -3.37566323e+05,  3.37893542e+09, -1.06747844e+12,\n",
       "           1.03372284e+13]),\n",
       "   'xmin': 1e-07,\n",
       "   'xmax': 3.162277660168379e-06},\n",
       "  {'lower_index': 1,\n",
       "   'reference_indices': (0, 4),\n",
       "   'coeffs': array([ 1.03372284e+00, -3.37566323e+05,  3.37893542e+09, -1.06747844e+12,\n",
       "           1.03372284e+13]),\n",
       "   'xmin': 3.162277660168379e-06,\n",
       "   'xmax': 0.0001},\n",
       "  {'lower_index': 2,\n",
       "   'reference_indices': (0, 4),\n",
       "   'coeffs': array([ 1.03372284e+00, -3.37566323e+05,  3.37893542e+09, -1.06747844e+12,\n",
       "           1.03372284e+13]),\n",
       "   'xmin': 0.0001,\n",
       "   'xmax': 0.0031622776601683794}]}"
      ]
     },
     "execution_count": 8,
     "metadata": {},
     "output_type": "execute_result"
    }
   ],
   "source": [
    "basis_function_coeffs[0]"
   ]
  },
  {
   "cell_type": "code",
   "execution_count": 9,
   "metadata": {},
   "outputs": [
    {
     "data": {
      "text/plain": [
       "{'polynom_number': 9,\n",
       " 'areas': [{'lower_index': 7,\n",
       "   'reference_indices': (5, 9),\n",
       "   'coeffs': array([  2024.95061728, -14552.16278006,  36656.24142661, -38759.94513032,\n",
       "           14631.91586648]),\n",
       "   'xmin': 0.775,\n",
       "   'xmax': 0.999},\n",
       "  {'lower_index': 8,\n",
       "   'reference_indices': (5, 9),\n",
       "   'coeffs': array([  2024.95061728, -14552.16278006,  36656.24142661, -38759.94513032,\n",
       "           14631.91586648]),\n",
       "   'xmin': 0.999,\n",
       "   'xmax': 1.0}]}"
      ]
     },
     "execution_count": 9,
     "metadata": {},
     "output_type": "execute_result"
    }
   ],
   "source": [
    "basis_function_coeffs[9]"
   ]
  },
  {
   "cell_type": "markdown",
   "metadata": {},
   "source": [
    "### Numba tries"
   ]
  },
  {
   "cell_type": "code",
   "execution_count": 20,
   "metadata": {},
   "outputs": [
    {
     "data": {
      "text/plain": [
       "array([[4., 0.],\n",
       "       [0., 4.]])"
      ]
     },
     "execution_count": 20,
     "metadata": {},
     "output_type": "execute_result"
    }
   ],
   "source": [
    "def test_function(n):\n",
    "    result = np.identity(2)*4\n",
    "    return result\n",
    "\n",
    "nb_test = nb.njit(test_function)\n",
    "nb_test(4)"
   ]
  },
  {
   "cell_type": "code",
   "execution_count": 45,
   "metadata": {},
   "outputs": [
    {
     "ename": "KeyboardInterrupt",
     "evalue": "",
     "output_type": "error",
     "traceback": [
      "\u001b[0;31m---------------------------------------------------------\u001b[0m",
      "\u001b[0;31mKeyboardInterrupt\u001b[0m       Traceback (most recent call last)",
      "\u001b[0;32m<timed exec>\u001b[0m in \u001b[0;36m<module>\u001b[0;34m\u001b[0m\n",
      "\u001b[0;32m~/Academic_Workspace/N3PDF/eko/ekovortex/lib/python3.8/site-packages/quadpy/_scipy_compat.py\u001b[0m in \u001b[0;36mquad\u001b[0;34m(f, a, b, args, epsabs)\u001b[0m\n",
      "\u001b[0;32m~/Academic_Workspace/N3PDF/eko/ekovortex/lib/python3.8/site-packages/quadpy/line_segment/_tools.py\u001b[0m in \u001b[0;36mintegrate_adaptive\u001b[0;34m(f, intervals, eps, kronrod_degree, minimum_interval_length, dot)\u001b[0m\n",
      "\u001b[0;32m~/Academic_Workspace/N3PDF/eko/ekovortex/lib/python3.8/site-packages/quadpy/line_segment/_gauss_kronrod.py\u001b[0m in \u001b[0;36m_gauss_kronrod_integrate\u001b[0;34m(k, f, interval, dot)\u001b[0m\n",
      "\u001b[0;32m~/Academic_Workspace/N3PDF/eko/ekovortex/lib/python3.8/site-packages/quadpy/_scipy_compat.py\u001b[0m in \u001b[0;36mg\u001b[0;34m(x)\u001b[0m\n",
      "\u001b[0;31mKeyboardInterrupt\u001b[0m: "
     ]
    },
    {
     "name": "stdout",
     "output_type": "stream",
     "text": [
      "(22.31735763032409, 25.63193845828505)\n"
     ]
    }
   ],
   "source": [
    "import numba as nb\n",
    "import quadpy\n",
    "\n",
    "def fun(x, extra_num = 4.4888):\n",
    "    y = np.sin(x)\n",
    "    for i in range(100):\n",
    "        y += np.exp(-i)/np.cos(y)\n",
    "    return y*extra_num\n",
    "\n",
    "nbfun = nb.njit(fun)\n",
    "%time res = quadpy.quad(nbfun, 0.5, 1.0)\n",
    "\n",
    "print(res)"
   ]
  },
  {
   "cell_type": "code",
   "execution_count": null,
   "metadata": {},
   "outputs": [],
   "source": []
  },
  {
   "cell_type": "code",
   "execution_count": null,
   "metadata": {},
   "outputs": [],
   "source": []
  }
 ],
 "metadata": {
  "kernelspec": {
   "display_name": "ekovortex",
   "language": "python",
   "name": "ekovortex"
  },
  "language_info": {
   "codemirror_mode": {
    "name": "ipython",
    "version": 3
   },
   "file_extension": ".py",
   "mimetype": "text/x-python",
   "name": "python",
   "nbconvert_exporter": "python",
   "pygments_lexer": "ipython3",
   "version": "3.8.0"
  }
 },
 "nbformat": 4,
 "nbformat_minor": 2
}
